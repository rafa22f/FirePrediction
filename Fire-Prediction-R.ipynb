{
 "cells": [
  {
   "cell_type": "markdown",
   "metadata": {},
   "source": [
    "# Fire Prediction\n",
    "### Loading Data"
   ]
  },
  {
   "cell_type": "code",
   "execution_count": 1,
   "metadata": {
    "scrolled": true
   },
   "outputs": [],
   "source": [
    "%matplotlib inline\n",
    "%reload_ext autoreload\n",
    "%autoreload 2\n",
    "\n",
    "import numpy as np\n",
    "import matplotlib.pyplot as plt\n",
    "\n",
    "# Load train and test data\n",
    "import scipy.io\n",
    "data = scipy.io.loadmat('fireReductionR.mat')\n",
    "X_train = data['X_train']\n",
    "y_train = data['Y_train'].ravel()\n",
    "X_test  = data['X_test']\n",
    "y_test  = data['Y_test'].ravel()\n"
   ]
  },
  {
   "cell_type": "markdown",
   "metadata": {},
   "source": [
    "### Training ###"
   ]
  },
  {
   "cell_type": "code",
   "execution_count": 8,
   "metadata": {},
   "outputs": [],
   "source": [
    "from fireReduction import train_one_vs_all\n",
    "\n",
    "lambda_val = 100\n",
    "weight_vectors, intercepts = train_one_vs_all(X_train, y_train, 3, lambda_val)\n",
    "# display_data(weight_vectors.T) # display weight vectors as images"
   ]
  },
  {
   "cell_type": "markdown",
   "metadata": {},
   "source": [
    "### Predictions\n"
   ]
  },
  {
   "cell_type": "code",
   "execution_count": 9,
   "metadata": {
    "scrolled": true
   },
   "outputs": [
    {
     "name": "stdout",
     "output_type": "stream",
     "text": [
      "Training Set Accuracy: 73.599120\n",
      "    Test Set Accuracy: 76.569899\n"
     ]
    }
   ],
   "source": [
    "from fireReduction import predict_one_vs_all\n",
    "\n",
    "pred_train = predict_one_vs_all(X_train, weight_vectors, intercepts)\n",
    "pred_test  = predict_one_vs_all(X_test,  weight_vectors, intercepts)\n",
    "\n",
    "print(\"Training Set Accuracy: %f\" % (np.mean(pred_train == y_train) * 100))\n",
    "print(\"    Test Set Accuracy: %f\" % (np.mean( pred_test == y_test) * 100))"
   ]
  },
  {
   "cell_type": "markdown",
   "metadata": {},
   "source": [
    "## Regularization Experiment"
   ]
  },
  {
   "cell_type": "code",
   "execution_count": 25,
   "metadata": {
    "scrolled": false
   },
   "outputs": [
    {
     "data": {
      "image/png": "[encoded data removed]",
      "text/plain": [
       "<Figure size 432x288 with 1 Axes>"
      ]
     },
     "metadata": {
      "needs_background": "light"
     },
     "output_type": "display_data"
    }
   ],
   "source": [
    "lambda_vals = 10**np.arange(-1., 6.)\n",
    "num_classes = 3\n",
    "\n",
    "# Write code here\n",
    "nvals = len(lambda_vals)\n",
    "train_acc = np.zeros(nvals)\n",
    "test_acc = np.zeros(nvals)\n",
    "\n",
    "for i in range(nvals):\n",
    "    weight_vectors, intercepts = train_one_vs_all(X_train, y_train, num_classes,lambda_vals[i])\n",
    "    \n",
    "    pred_train = predict_one_vs_all(X_train, weight_vectors, intercepts)\n",
    "    pred_test = predict_one_vs_all(X_test, weight_vectors, intercepts)\n",
    "    \n",
    "    train_acc[i] = np.mean(pred_train == y_train) * 100\n",
    "    test_acc[i] = np.mean(pred_test == y_test) * 100\n",
    "\n",
    "\n",
    "# In your final plot, use these commands to provide a legend and set \n",
    "# the horizontal axis to have a logarithmic scale so the value of lambda \n",
    "# appear evenly spaced.\n",
    "\n",
    "plt.plot(lambda_vals, 100-train_acc)\n",
    "plt.plot(lambda_vals, 100-test_acc)\n",
    "plt.xscale('log')\n",
    "plt.xlabel('$\\lambda$')\n",
    "plt.ylabel('error %')\n",
    "\n",
    "plt.legend(('train', 'test'))\n",
    "plt.xscale('log')\n"
   ]
  },
  {
   "cell_type": "markdown",
   "metadata": {},
   "source": [
    "## Learning Curve"
   ]
  },
  {
   "cell_type": "code",
   "execution_count": 44,
   "metadata": {
    "scrolled": false
   },
   "outputs": [
    {
     "name": "stdout",
     "output_type": "stream",
     "text": [
      "Precision for NoFire 76.00734921439432 %\n",
      "Precision for Start 0.0 %\n",
      "Precision for Fire 70.92507914175167 %\n"
     ]
    },
    {
     "data": {
      "image/png": "[encoded data removed]",
      "text/plain": [
       "<Figure size 432x288 with 1 Axes>"
      ]
     },
     "metadata": {
      "needs_background": "light"
     },
     "output_type": "display_data"
    }
   ],
   "source": [
    "from fireReduction import precisionStart, precisionFire, precisionNoFire\n",
    "m, n = X_train.shape\n",
    "\n",
    "train_sizes = np.arange(250, 4000, 250)\n",
    "nvals = len(X_train)\n",
    "\n",
    "precisNoFire = np.zeros(160)\n",
    "precisStart = np.zeros(160)\n",
    "precisFire = np.zeros(160)\n",
    "accur = np.zeros(160)\n",
    "amtTrain = np.zeros(160)\n",
    "\n",
    "for i in range (160): \n",
    "    p = np.random.permutation(m)\n",
    "    selected_examples = p[0:(i+1)*1000]\n",
    "    X_train_small = X_train[selected_examples,:]\n",
    "    y_train_small = y_train[selected_examples]\n",
    "    lambda_val = 100\n",
    "    weight_vectors, intercepts = train_one_vs_all(X_train_small, y_train_small, 3, lambda_val)\n",
    "    pred_train = predict_one_vs_all(X_train_small, weight_vectors, intercepts)\n",
    "    amtTrain[i] = (i+1)*1000\n",
    "#     print(pred_train)\n",
    "#     precis[i] = precision(y_train_small, pred_train)\n",
    "    precisNoFire[i] = precisionNoFire(y_train_small, pred_train) * 100\n",
    "    precisStart[i] = precisionStart(y_train_small, pred_train) * 100\n",
    "    precisFire[i] = precisionFire(y_train_small, pred_train) * 100\n",
    "    accur[i] = np.mean(pred_train == y_train_small) * 100\n",
    "plt.plot(amtTrain, accur)\n",
    "# plt.plot(amtTrain, precis)\n",
    "plt.xlabel('Number of training examples')\n",
    "plt.ylabel('Model Accuracy')\n",
    "\n",
    "print(\"Precision for NoFire\", precisNoFire[-1], \"%\")\n",
    "print(\"Precision for Start\", precisStart[-1], \"%\")\n",
    "print(\"Precision for Fire\", precisFire[-1], \"%\")"
   ]
  },
  {
   "cell_type": "markdown",
   "metadata": {},
   "source": [
    "### Final Testing"
   ]
  },
  {
   "cell_type": "code",
   "execution_count": 46,
   "metadata": {},
   "outputs": [
    {
     "name": "stdout",
     "output_type": "stream",
     "text": [
      "Results on test set:\n",
      "Accuracy:  76.56989911467984\n",
      "Precision for NoFire 80.15051740357478 %\n",
      "Precision for Start 0.0 %\n",
      "Precision for Fire 51.404958677685954 %\n"
     ]
    }
   ],
   "source": [
    "weight_vectors, intercepts = train_one_vs_all(X_train, y_train, 3, 100)\n",
    "pred_train = predict_one_vs_all(X_test, weight_vectors, intercepts)\n",
    "precisNoFire = precisionNoFire(y_test, pred_train) * 100\n",
    "precisStart = precisionStart(y_test, pred_train) * 100\n",
    "precisFire = precisionFire(y_test, pred_train) * 100\n",
    "accur = np.mean(pred_train == y_test) * 100\n",
    "\n",
    "print(\"Results on test set:\")\n",
    "print(\"Accuracy: \", accur)\n",
    "print(\"Precision for NoFire\", precisNoFire, \"%\")\n",
    "print(\"Precision for Start\", precisStart, \"%\")\n",
    "print(\"Precision for Fire\", precisFire, \"%\")"
   ]
  },
  {
   "cell_type": "code",
   "execution_count": null,
   "metadata": {},
   "outputs": [],
   "source": []
  }
 ],
 "metadata": {
  "anaconda-cloud": {},
  "kernelspec": {
   "display_name": "Python 3",
   "language": "python",
   "name": "python3"
  },
  "language_info": {
   "codemirror_mode": {
    "name": "ipython",
    "version": 3
   },
   "file_extension": ".py",
   "mimetype": "text/x-python",
   "name": "python",
   "nbconvert_exporter": "python",
   "pygments_lexer": "ipython3",
   "version": "3.8.3"
  }
 },
 "nbformat": 4,
 "nbformat_minor": 1
}
